{
 "cells": [
  {
   "cell_type": "markdown",
   "metadata": {},
   "source": [
    "# Capstone Project - The Battle of Neighborhoods (Week 1)"
   ]
  },
  {
   "cell_type": "markdown",
   "metadata": {},
   "source": [
    "### A SAGA OF AMERICA'S MIGRATION TRENDS"
   ]
  },
  {
   "cell_type": "markdown",
   "metadata": {},
   "source": [
    "Lets beign with the word \"Migration\"\n",
    "\n",
    "An extract from \"Human migration - Wikipedia\" describes that Human migration involves the movement of people from one place to another with intentions of settling, permanently or temporarily, at a new location (geographic region)\". Its is so true for animals also like birds; hoofed animals,bats,whales etc. Its about the movement of poulation from one area to another.\n",
    "\n",
    "This study is about the Migration trends of Americans to other states within the United States and based upon that- a conclusion about a \"city\" for Real Estate Investors. According to the latest information published by the U.S. Census Bureau the percentage of people that move every year equates to 14% of the population (or roughly 40 million).\n",
    "\n",
    "Migration within the US in search of economic opportunity is part of the nation’s ethos. The early pioneers who traversed the California Trail to achieve wealth during the California Gold Rush in the mid-1800s are a prominent example of this.\n",
    "\n",
    "People are fleeing cities because of various reasons- housing, jobs, family, nature, Lower tax etc. This migration patterns will give us a better idea about the states with the maximum influx of moves.This will help Real Estate investors to make more educated investment decisions.\n",
    "\n",
    "Lets start with moving migration patterns of top 5 inbound states for people moving in the US."
   ]
  },
  {
   "cell_type": "code",
   "execution_count": null,
   "metadata": {},
   "outputs": [],
   "source": []
  }
 ],
 "metadata": {
  "kernelspec": {
   "display_name": "Python 3",
   "language": "python",
   "name": "python3"
  },
  "language_info": {
   "codemirror_mode": {
    "name": "ipython",
    "version": 3
   },
   "file_extension": ".py",
   "mimetype": "text/x-python",
   "name": "python",
   "nbconvert_exporter": "python",
   "pygments_lexer": "ipython3",
   "version": "3.8.5"
  }
 },
 "nbformat": 4,
 "nbformat_minor": 4
}
